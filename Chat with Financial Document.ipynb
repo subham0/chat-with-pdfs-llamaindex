{
 "cells": [
  {
   "cell_type": "markdown",
   "metadata": {},
   "source": [
    "## RAG with LlamaParse & GPT-4o\n",
    "\n",
    "GPT-4o is a fully multimodal model by OpenAI released in May 2024. It matches GPT-4 Turbo performance in text and code, and has significantly improved vision and audio capabilities.\n",
    "\n",
    "The expanded vision/audio capabilities mean that it can be used for document parsing, by treating each page as an image and performing document extraction. Llama-index supports using GPT-4o natively in LlamaParse for document parsing. The notebook below walks you through an example of using GPT-4o over the Tesla-Q3-2023-Update-3 report."
   ]
  },
  {
   "cell_type": "markdown",
   "metadata": {},
   "source": [
    "## Installing necessary packages"
   ]
  },
  {
   "cell_type": "code",
   "execution_count": 1,
   "metadata": {},
   "outputs": [
    {
     "name": "stdout",
     "output_type": "stream",
     "text": [
      "Requirement already satisfied: llama-index in ./video_summarizer/lib/python3.11/site-packages (0.10.55)\n",
      "Requirement already satisfied: llama-index-agent-openai<0.3.0,>=0.1.4 in ./video_summarizer/lib/python3.11/site-packages (from llama-index) (0.2.8)\n",
      "Requirement already satisfied: llama-index-cli<0.2.0,>=0.1.2 in ./video_summarizer/lib/python3.11/site-packages (from llama-index) (0.1.12)\n",
      "Requirement already satisfied: llama-index-core==0.10.55 in ./video_summarizer/lib/python3.11/site-packages (from llama-index) (0.10.55)\n",
      "Requirement already satisfied: llama-index-embeddings-openai<0.2.0,>=0.1.5 in ./video_summarizer/lib/python3.11/site-packages (from llama-index) (0.1.10)\n",
      "Requirement already satisfied: llama-index-indices-managed-llama-cloud>=0.2.0 in ./video_summarizer/lib/python3.11/site-packages (from llama-index) (0.2.5)\n",
      "Requirement already satisfied: llama-index-legacy<0.10.0,>=0.9.48 in ./video_summarizer/lib/python3.11/site-packages (from llama-index) (0.9.48)\n",
      "Requirement already satisfied: llama-index-llms-openai<0.2.0,>=0.1.13 in ./video_summarizer/lib/python3.11/site-packages (from llama-index) (0.1.25)\n",
      "Requirement already satisfied: llama-index-multi-modal-llms-openai<0.2.0,>=0.1.3 in ./video_summarizer/lib/python3.11/site-packages (from llama-index) (0.1.7)\n",
      "Requirement already satisfied: llama-index-program-openai<0.2.0,>=0.1.3 in ./video_summarizer/lib/python3.11/site-packages (from llama-index) (0.1.6)\n",
      "Requirement already satisfied: llama-index-question-gen-openai<0.2.0,>=0.1.2 in ./video_summarizer/lib/python3.11/site-packages (from llama-index) (0.1.3)\n",
      "Requirement already satisfied: llama-index-readers-file<0.2.0,>=0.1.4 in ./video_summarizer/lib/python3.11/site-packages (from llama-index) (0.1.30)\n",
      "Requirement already satisfied: llama-index-readers-llama-parse>=0.1.2 in ./video_summarizer/lib/python3.11/site-packages (from llama-index) (0.1.6)\n",
      "Requirement already satisfied: PyYAML>=6.0.1 in ./video_summarizer/lib/python3.11/site-packages (from llama-index-core==0.10.55->llama-index) (6.0.1)\n",
      "Requirement already satisfied: SQLAlchemy>=1.4.49 in ./video_summarizer/lib/python3.11/site-packages (from SQLAlchemy[asyncio]>=1.4.49->llama-index-core==0.10.55->llama-index) (2.0.31)\n",
      "Requirement already satisfied: aiohttp<4.0.0,>=3.8.6 in ./video_summarizer/lib/python3.11/site-packages (from llama-index-core==0.10.55->llama-index) (3.9.5)\n",
      "Requirement already satisfied: dataclasses-json in ./video_summarizer/lib/python3.11/site-packages (from llama-index-core==0.10.55->llama-index) (0.6.7)\n",
      "Requirement already satisfied: deprecated>=1.2.9.3 in ./video_summarizer/lib/python3.11/site-packages (from llama-index-core==0.10.55->llama-index) (1.2.14)\n",
      "Requirement already satisfied: dirtyjson<2.0.0,>=1.0.8 in ./video_summarizer/lib/python3.11/site-packages (from llama-index-core==0.10.55->llama-index) (1.0.8)\n",
      "Requirement already satisfied: fsspec>=2023.5.0 in ./video_summarizer/lib/python3.11/site-packages (from llama-index-core==0.10.55->llama-index) (2024.6.1)\n",
      "Requirement already satisfied: httpx in ./video_summarizer/lib/python3.11/site-packages (from llama-index-core==0.10.55->llama-index) (0.27.0)\n",
      "Requirement already satisfied: nest-asyncio<2.0.0,>=1.5.8 in ./video_summarizer/lib/python3.11/site-packages (from llama-index-core==0.10.55->llama-index) (1.6.0)\n",
      "Requirement already satisfied: networkx>=3.0 in ./video_summarizer/lib/python3.11/site-packages (from llama-index-core==0.10.55->llama-index) (3.3)\n",
      "Requirement already satisfied: nltk<4.0.0,>=3.8.1 in ./video_summarizer/lib/python3.11/site-packages (from llama-index-core==0.10.55->llama-index) (3.8.1)\n",
      "Requirement already satisfied: numpy<2.0.0 in ./video_summarizer/lib/python3.11/site-packages (from llama-index-core==0.10.55->llama-index) (1.26.4)\n",
      "Requirement already satisfied: openai>=1.1.0 in ./video_summarizer/lib/python3.11/site-packages (from llama-index-core==0.10.55->llama-index) (1.35.13)\n",
      "Requirement already satisfied: pandas in ./video_summarizer/lib/python3.11/site-packages (from llama-index-core==0.10.55->llama-index) (2.2.2)\n",
      "Requirement already satisfied: pillow>=9.0.0 in ./video_summarizer/lib/python3.11/site-packages (from llama-index-core==0.10.55->llama-index) (10.4.0)\n",
      "Requirement already satisfied: requests>=2.31.0 in ./video_summarizer/lib/python3.11/site-packages (from llama-index-core==0.10.55->llama-index) (2.32.3)\n",
      "Requirement already satisfied: tenacity!=8.4.0,<9.0.0,>=8.2.0 in ./video_summarizer/lib/python3.11/site-packages (from llama-index-core==0.10.55->llama-index) (8.5.0)\n",
      "Requirement already satisfied: tiktoken>=0.3.3 in ./video_summarizer/lib/python3.11/site-packages (from llama-index-core==0.10.55->llama-index) (0.7.0)\n",
      "Requirement already satisfied: tqdm<5.0.0,>=4.66.1 in ./video_summarizer/lib/python3.11/site-packages (from llama-index-core==0.10.55->llama-index) (4.66.4)\n",
      "Requirement already satisfied: typing-extensions>=4.5.0 in ./video_summarizer/lib/python3.11/site-packages (from llama-index-core==0.10.55->llama-index) (4.12.2)\n",
      "Requirement already satisfied: typing-inspect>=0.8.0 in ./video_summarizer/lib/python3.11/site-packages (from llama-index-core==0.10.55->llama-index) (0.9.0)\n",
      "Requirement already satisfied: wrapt in ./video_summarizer/lib/python3.11/site-packages (from llama-index-core==0.10.55->llama-index) (1.16.0)\n",
      "Requirement already satisfied: llama-cloud>=0.0.9 in ./video_summarizer/lib/python3.11/site-packages (from llama-index-indices-managed-llama-cloud>=0.2.0->llama-index) (0.0.9)\n",
      "Requirement already satisfied: beautifulsoup4<5.0.0,>=4.12.3 in ./video_summarizer/lib/python3.11/site-packages (from llama-index-readers-file<0.2.0,>=0.1.4->llama-index) (4.12.3)\n",
      "Requirement already satisfied: pypdf<5.0.0,>=4.0.1 in ./video_summarizer/lib/python3.11/site-packages (from llama-index-readers-file<0.2.0,>=0.1.4->llama-index) (4.3.0)\n",
      "Requirement already satisfied: striprtf<0.0.27,>=0.0.26 in ./video_summarizer/lib/python3.11/site-packages (from llama-index-readers-file<0.2.0,>=0.1.4->llama-index) (0.0.26)\n",
      "Requirement already satisfied: llama-parse>=0.4.0 in ./video_summarizer/lib/python3.11/site-packages (from llama-index-readers-llama-parse>=0.1.2->llama-index) (0.4.7)\n",
      "Requirement already satisfied: aiosignal>=1.1.2 in ./video_summarizer/lib/python3.11/site-packages (from aiohttp<4.0.0,>=3.8.6->llama-index-core==0.10.55->llama-index) (1.3.1)\n",
      "Requirement already satisfied: attrs>=17.3.0 in ./video_summarizer/lib/python3.11/site-packages (from aiohttp<4.0.0,>=3.8.6->llama-index-core==0.10.55->llama-index) (23.2.0)\n",
      "Requirement already satisfied: frozenlist>=1.1.1 in ./video_summarizer/lib/python3.11/site-packages (from aiohttp<4.0.0,>=3.8.6->llama-index-core==0.10.55->llama-index) (1.4.1)\n",
      "Requirement already satisfied: multidict<7.0,>=4.5 in ./video_summarizer/lib/python3.11/site-packages (from aiohttp<4.0.0,>=3.8.6->llama-index-core==0.10.55->llama-index) (6.0.5)\n",
      "Requirement already satisfied: yarl<2.0,>=1.0 in ./video_summarizer/lib/python3.11/site-packages (from aiohttp<4.0.0,>=3.8.6->llama-index-core==0.10.55->llama-index) (1.9.4)\n",
      "Requirement already satisfied: soupsieve>1.2 in ./video_summarizer/lib/python3.11/site-packages (from beautifulsoup4<5.0.0,>=4.12.3->llama-index-readers-file<0.2.0,>=0.1.4->llama-index) (2.5)\n",
      "Requirement already satisfied: pydantic>=1.10 in ./video_summarizer/lib/python3.11/site-packages (from llama-cloud>=0.0.9->llama-index-indices-managed-llama-cloud>=0.2.0->llama-index) (2.8.2)\n",
      "Requirement already satisfied: anyio in ./video_summarizer/lib/python3.11/site-packages (from httpx->llama-index-core==0.10.55->llama-index) (4.4.0)\n",
      "Requirement already satisfied: certifi in ./video_summarizer/lib/python3.11/site-packages (from httpx->llama-index-core==0.10.55->llama-index) (2024.7.4)\n",
      "Requirement already satisfied: httpcore==1.* in ./video_summarizer/lib/python3.11/site-packages (from httpx->llama-index-core==0.10.55->llama-index) (1.0.5)\n",
      "Requirement already satisfied: idna in ./video_summarizer/lib/python3.11/site-packages (from httpx->llama-index-core==0.10.55->llama-index) (3.7)\n",
      "Requirement already satisfied: sniffio in ./video_summarizer/lib/python3.11/site-packages (from httpx->llama-index-core==0.10.55->llama-index) (1.3.1)\n",
      "Requirement already satisfied: h11<0.15,>=0.13 in ./video_summarizer/lib/python3.11/site-packages (from httpcore==1.*->httpx->llama-index-core==0.10.55->llama-index) (0.14.0)\n",
      "Requirement already satisfied: click in ./video_summarizer/lib/python3.11/site-packages (from nltk<4.0.0,>=3.8.1->llama-index-core==0.10.55->llama-index) (8.1.7)\n",
      "Requirement already satisfied: joblib in ./video_summarizer/lib/python3.11/site-packages (from nltk<4.0.0,>=3.8.1->llama-index-core==0.10.55->llama-index) (1.4.2)\n",
      "Requirement already satisfied: regex>=2021.8.3 in ./video_summarizer/lib/python3.11/site-packages (from nltk<4.0.0,>=3.8.1->llama-index-core==0.10.55->llama-index) (2024.5.15)\n",
      "Requirement already satisfied: distro<2,>=1.7.0 in ./video_summarizer/lib/python3.11/site-packages (from openai>=1.1.0->llama-index-core==0.10.55->llama-index) (1.9.0)\n",
      "Requirement already satisfied: charset-normalizer<4,>=2 in ./video_summarizer/lib/python3.11/site-packages (from requests>=2.31.0->llama-index-core==0.10.55->llama-index) (3.3.2)\n",
      "Requirement already satisfied: urllib3<3,>=1.21.1 in ./video_summarizer/lib/python3.11/site-packages (from requests>=2.31.0->llama-index-core==0.10.55->llama-index) (2.2.2)\n",
      "Requirement already satisfied: greenlet!=0.4.17 in ./video_summarizer/lib/python3.11/site-packages (from SQLAlchemy>=1.4.49->SQLAlchemy[asyncio]>=1.4.49->llama-index-core==0.10.55->llama-index) (3.0.3)\n",
      "Requirement already satisfied: mypy-extensions>=0.3.0 in ./video_summarizer/lib/python3.11/site-packages (from typing-inspect>=0.8.0->llama-index-core==0.10.55->llama-index) (1.0.0)\n",
      "Requirement already satisfied: marshmallow<4.0.0,>=3.18.0 in ./video_summarizer/lib/python3.11/site-packages (from dataclasses-json->llama-index-core==0.10.55->llama-index) (3.21.3)\n",
      "Requirement already satisfied: python-dateutil>=2.8.2 in ./video_summarizer/lib/python3.11/site-packages (from pandas->llama-index-core==0.10.55->llama-index) (2.9.0.post0)\n",
      "Requirement already satisfied: pytz>=2020.1 in ./video_summarizer/lib/python3.11/site-packages (from pandas->llama-index-core==0.10.55->llama-index) (2024.1)\n",
      "Requirement already satisfied: tzdata>=2022.7 in ./video_summarizer/lib/python3.11/site-packages (from pandas->llama-index-core==0.10.55->llama-index) (2024.1)\n",
      "Requirement already satisfied: packaging>=17.0 in ./video_summarizer/lib/python3.11/site-packages (from marshmallow<4.0.0,>=3.18.0->dataclasses-json->llama-index-core==0.10.55->llama-index) (24.1)\n",
      "Requirement already satisfied: annotated-types>=0.4.0 in ./video_summarizer/lib/python3.11/site-packages (from pydantic>=1.10->llama-cloud>=0.0.9->llama-index-indices-managed-llama-cloud>=0.2.0->llama-index) (0.7.0)\n",
      "Requirement already satisfied: pydantic-core==2.20.1 in ./video_summarizer/lib/python3.11/site-packages (from pydantic>=1.10->llama-cloud>=0.0.9->llama-index-indices-managed-llama-cloud>=0.2.0->llama-index) (2.20.1)\n",
      "Requirement already satisfied: six>=1.5 in ./video_summarizer/lib/python3.11/site-packages (from python-dateutil>=2.8.2->pandas->llama-index-core==0.10.55->llama-index) (1.16.0)\n"
     ]
    }
   ],
   "source": [
    "!pip install llama-index"
   ]
  },
  {
   "cell_type": "markdown",
   "metadata": {},
   "source": [
    "## Loading required modules"
   ]
  },
  {
   "cell_type": "code",
   "execution_count": 2,
   "metadata": {},
   "outputs": [
    {
     "data": {
      "text/plain": [
       "True"
      ]
     },
     "execution_count": 2,
     "metadata": {},
     "output_type": "execute_result"
    }
   ],
   "source": [
    "import os\n",
    "import nest_asyncio\n",
    "from dotenv import load_dotenv\n",
    "from llama_parse import LlamaParse\n",
    "from llama_index.core import VectorStoreIndex\n",
    "nest_asyncio.apply()\n",
    "load_dotenv()"
   ]
  },
  {
   "cell_type": "markdown",
   "metadata": {},
   "source": [
    "## Using Llama-Parse and GPT4o Multimodal LLM to Parse PDF "
   ]
  },
  {
   "cell_type": "markdown",
   "metadata": {},
   "source": [
    "#### Initializing the parser object"
   ]
  },
  {
   "cell_type": "code",
   "execution_count": 3,
   "metadata": {},
   "outputs": [],
   "source": [
    "parser_gpt4o = LlamaParse(\n",
    "    result_type=\"markdown\",\n",
    "    api_key=os.environ[\"LLAMA_CLOUD_API_KEY\"],\n",
    "    gpt4o_mode=True,\n",
    "    split_by_page=True,\n",
    "    gpt4o_api_key=os.environ[\"OPENAI_API_KEY\"]\n",
    ")"
   ]
  },
  {
   "cell_type": "markdown",
   "metadata": {},
   "source": [
    "#### Parsing the PDF document"
   ]
  },
  {
   "cell_type": "code",
   "execution_count": 4,
   "metadata": {},
   "outputs": [
    {
     "name": "stdout",
     "output_type": "stream",
     "text": [
      "Started parsing the file under job_id cac11eca-8e1c-4474-aa39-f5e39fc983d3\n"
     ]
    }
   ],
   "source": [
    "documents_gpt4o = parser_gpt4o.load_data(\"./TSLA-Q3-2023-Update-3.pdf\")"
   ]
  },
  {
   "cell_type": "markdown",
   "metadata": {},
   "source": [
    "#### Sample Page Content extracted by LLama-Parse using GPT4o"
   ]
  },
  {
   "cell_type": "code",
   "execution_count": 5,
   "metadata": {},
   "outputs": [
    {
     "name": "stdout",
     "output_type": "stream",
     "text": [
      "# CORE TECHNOLOGY\n",
      "\n",
      "|Artificial Intelligence Software and Hardware|600|\n",
      "|---|---|\n",
      "|Software that safely performs tasks in the real world is the key focus of our AI development efforts. We have commissioned one of the world's largest supercomputers to accelerate the pace of our AI development, with compute capacity more than doubling compared to Q2. Our large installed base of vehicles continues to generate anonymized video and other data used to develop our FSD Capability features.|500|\n",
      "|Vehicle and Other Software| |\n",
      "|All Tesla rentals through Hertz in the U.S. and Canada now allow Tesla app access, allowing renters to use keyless lock/unlock via phone key, remotely precondition the cabin, track charge status and more. Customers who already have a Tesla Profile will have their settings and preferences seamlessly applied, making the rental car feel like their own. The in-app service experience was also redesigned to allow customers to schedule service, access their loaner, track service progress, pay and manage drop-off/pickup. Prospective customers can similarly schedule, locate and test drive a demo vehicle.| |\n",
      "|Battery, Powertrain & Manufacturing| |\n",
      "|Despite macroeconomic headwinds, our planned factory shutdowns in Q3 and ongoing ramp at new factories, our average vehicle cost was ~$37,500, and we continue to work to reduce the cost further. For very heavy vehicles, a high voltage powertrain architecture brings notable cost savings, which is why Cybertruck will adopt an 800-volt architecture.| |\n",
      "\n",
      "| |Q3 2022|Q4 2022|Q1 2023|Q2 2023|Q3 2023|\n",
      "|---|---|---|---|---|---|\n",
      "|Cost of goods sold per vehicle|$36,000|$36,500|$37,000|$37,500| |\n"
     ]
    }
   ],
   "source": [
    "print(documents_gpt4o[7].get_content())"
   ]
  },
  {
   "cell_type": "markdown",
   "metadata": {},
   "source": [
    "#### Filtering nodes with content"
   ]
  },
  {
   "cell_type": "code",
   "execution_count": 7,
   "metadata": {},
   "outputs": [],
   "source": [
    "nodes_with_content = [node for node in documents_gpt4o if node.get_content()]"
   ]
  },
  {
   "cell_type": "markdown",
   "metadata": {},
   "source": [
    "#### Indexing the extracted content from PDF\n",
    "\n",
    "By default Llama-index uses  a simple In-Memory Vector Store and uses the OpenAI text-embedding-ada-002 model for embedding the document."
   ]
  },
  {
   "cell_type": "code",
   "execution_count": 8,
   "metadata": {},
   "outputs": [],
   "source": [
    "vector_index = VectorStoreIndex(nodes_with_content)"
   ]
  },
  {
   "cell_type": "markdown",
   "metadata": {},
   "source": [
    "#### Intializing the query engine"
   ]
  },
  {
   "cell_type": "code",
   "execution_count": 10,
   "metadata": {},
   "outputs": [],
   "source": [
    "query_engine = vector_index.as_query_engine(similarity_top_k=5)"
   ]
  },
  {
   "cell_type": "markdown",
   "metadata": {},
   "source": [
    "#### Querying the PDF doc"
   ]
  },
  {
   "cell_type": "code",
   "execution_count": 11,
   "metadata": {},
   "outputs": [
    {
     "name": "stdout",
     "output_type": "stream",
     "text": [
      "Total revenue in the statement of operations table for different quarters from 2022 to 2023 are as follows:\n",
      "- Q3-2022: $21,454 million\n",
      "- Q4-2022: $24,318 million\n",
      "- Q1-2023: $23,329 million\n",
      "- Q2-2023: $24,927 million\n",
      "- Q3-2023: $23,350 million\n"
     ]
    }
   ],
   "source": [
    "response = query_engine.query(\"what is the total revenue in statement of operations table for different quarters from 2022 to 2023\")\n",
    "print(str(response))"
   ]
  },
  {
   "cell_type": "code",
   "execution_count": 12,
   "metadata": {},
   "outputs": [
    {
     "name": "stdout",
     "output_type": "stream",
     "text": [
      "The operating margin graph shows a consistent decline over the trailing 12 months period. It started at 18% in Q3-2019 and decreased steadily to 0% in Q4-2021. The trend continued into negative territory with -2% in Q1-2022 and -4% in Q2-2022. This downward trend indicates a decrease in profitability relative to revenue over time.\n"
     ]
    }
   ],
   "source": [
    "response = query_engine.query(\"explain the operating margin graph\")\n",
    "print(str(response))"
   ]
  },
  {
   "cell_type": "code",
   "execution_count": 13,
   "metadata": {},
   "outputs": [
    {
     "name": "stdout",
     "output_type": "stream",
     "text": [
      "The statement of operations table is as follows:\n",
      "\n",
      "| |Q3-2022|Q4-2022|Q1-2023|Q2-2023|Q3-2023|\n",
      "|---|---|---|---|---|---|\n",
      "|REVENUES| | | | | |\n",
      "|Automotive sales|17,785|20,241|18,878|20,419|18,582|\n",
      "|Automotive regulatory credits|286|467|521|282|554|\n",
      "|Automotive leasing|621|599|564|567|489|\n",
      "|Total automotive revenues|18,692|21,307|19,963|21,268|19,625|\n",
      "|Energy generation and storage|1,117|1,310|1,529|1,509|1,559|\n",
      "|Services and other|1,645|1,701|1,837|2,150|2,166|\n",
      "|Total revenues|21,454|24,318|23,329|24,927|23,350|\n",
      "|COST OF REVENUES| | | | | |\n",
      "|Automotive sales|13,099|15,433|15,422|16,841|15,656|\n",
      "|Automotive leasing|381|352|333|338|301|\n",
      "|Total automotive cost of revenues|13,480|15,785|15,755|17,179|15,957|\n",
      "|Energy generation and storage|1,013|1,151|1,361|1,231|1,178|\n",
      "|Services and other|1,579|1,605|1,702|1,984|2,037|\n",
      "|Total cost of revenues|16,072|18,541|18,818|20,394|19,172|\n",
      "|Gross profit|5,382|5,777|4,511|4,533|4,178|\n",
      "|OPERATING EXPENSES| | | | | |\n",
      "|Research and development|733|810|771|943|1,161|\n",
      "|Selling, general and administrative|961|1,032|1,076|1,191|1,253|\n",
      "|Restructuring and other| |34| | | |\n",
      "|Total operating expenses|1,694|1,876|1,847|2,134|2,414|\n",
      "|INCOME FROM OPERATIONS|3,688|3,901|2,664|2,399|1,764|\n",
      "|Interest income|86|157|213|238|282|\n",
      "|Interest expense|-53|-33|-29|-28|-38|\n",
      "|Other (expense) income, net|-85|-42|-48|328|37|\n",
      "|INCOME BEFORE INCOME TAXES|3,636|3,983|2,800|2,937|2,045|\n",
      "|Provision for income taxes|305|276|261|323|167|\n",
      "|NET INCOME|3,331|3,707|2,539|2,614|1,878|\n",
      "|Net income (loss) attributable to noncontrolling interests and redeemable noncontrolling interests in subsidiaries|39|20|26|-89|25|\n",
      "|NET INCOME ATTRIBUTABLE TO COMMON STOCKHOLDERS|3,292|3,687|2,513|2,703|1,853|\n"
     ]
    }
   ],
   "source": [
    "response = query_engine.query(\"Give me the statement of operations table\")\n",
    "print(str(response))"
   ]
  },
  {
   "cell_type": "code",
   "execution_count": 15,
   "metadata": {},
   "outputs": [
    {
     "name": "stdout",
     "output_type": "stream",
     "text": [
      "The graph of market share of Tesla vehicles by region shows the distribution of Tesla's vehicle market share across different regions. It indicates the percentage of Tesla vehicles in each region compared to the total market share. The graph provides insights into the regional popularity and presence of Tesla vehicles in areas such as California, Nevada, Texas, Shanghai, Europe, and China.\n"
     ]
    }
   ],
   "source": [
    "response = query_engine.query(\"explain the graph of market share of tesla vehicles by region\")\n",
    "print(str(response))"
   ]
  },
  {
   "cell_type": "code",
   "execution_count": 16,
   "metadata": {},
   "outputs": [
    {
     "name": "stdout",
     "output_type": "stream",
     "text": [
      "| |Q3-2022|Q4-2022|Q1-2023|Q2-2023|Q3-2023|\n",
      "|---|---|---|---|---|---|\n",
      "|Total automotive revenues|18,692|21,307|19,963|21,268|19,625|\n",
      "|Energy generation and storage revenue|1,117|1,310|1,529|1,509|1,559|\n",
      "|Services and other revenue|1,645|1,701|1,837|2,150|2,166|\n",
      "|Total revenues|21,454|24,318|23,329|24,927|23,350|\n",
      "|Total gross profit|5,382|5,777|4,511|4,533|4,178|\n",
      "|Operating expenses|1,694|1,876|1,847|2,134|2,414|\n",
      "|Income from operations|3,688|3,901|2,664|2,399|1,764|\n",
      "|Adjusted EBITDA|4,968|5,404|4,267|4,653|3,758|\n",
      "|Net income attributable to common stockholders (GAAP)|3,292|3,687|2,513|2,703|1,853|\n",
      "|Net cash provided by operating activities|5,100|3,278|2,513|3,065|3,308|\n",
      "|Free cash flow|3,297|1,420|441|1,005|848|\n",
      "|Cash, cash equivalents and investments|21,107|22,185|22,402|23,075|26,077|\n"
     ]
    }
   ],
   "source": [
    "response = query_engine.query(\"give me the operational summary table\")\n",
    "print(str(response))"
   ]
  },
  {
   "cell_type": "code",
   "execution_count": 19,
   "metadata": {},
   "outputs": [
    {
     "name": "stdout",
     "output_type": "stream",
     "text": [
      "The total automotive revenue in Q3-2023 is $19,625 million.\n"
     ]
    }
   ],
   "source": [
    "response = query_engine.query(\"What is the total automotive revenue in Q3-2023\")\n",
    "print(str(response))"
   ]
  },
  {
   "cell_type": "code",
   "execution_count": 20,
   "metadata": {},
   "outputs": [
    {
     "name": "stdout",
     "output_type": "stream",
     "text": [
      "The Year-over-Year (YoY) change for income from operations is a decrease of 52%.\n"
     ]
    }
   ],
   "source": [
    "response = query_engine.query(\"What is the YoY for income from operations\")\n",
    "print(str(response))"
   ]
  },
  {
   "cell_type": "code",
   "execution_count": 21,
   "metadata": {},
   "outputs": [
    {
     "name": "stdout",
     "output_type": "stream",
     "text": [
      "The operating expenses from 2022 to 2024 are as follows:\n",
      "- 2022: $1,694 million\n",
      "- 2023: $1,876 million\n",
      "- 2024: $2,134 million\n"
     ]
    }
   ],
   "source": [
    "response = query_engine.query(\"what are the operating expenses from 2022 to 2024?\")\n",
    "print(str(response))"
   ]
  },
  {
   "cell_type": "code",
   "execution_count": 22,
   "metadata": {},
   "outputs": [
    {
     "name": "stdout",
     "output_type": "stream",
     "text": [
      "The cost of goods sold per vehicle from 2022 to 2023 ranged from $41,330 to $47,000.\n"
     ]
    }
   ],
   "source": [
    "response = query_engine.query(\"What is the cost of goods sold per vehicle from 2022 to 2023?\")\n",
    "print(str(response))"
   ]
  },
  {
   "cell_type": "code",
   "execution_count": 23,
   "metadata": {},
   "outputs": [
    {
     "name": "stdout",
     "output_type": "stream",
     "text": [
      "The annual vehicle capacity for different models in California is 100,000 for Model S / Model X and 550,000 for Model 3 / Model Y.\n"
     ]
    }
   ],
   "source": [
    "response = query_engine.query(\"What is the annual vehicle capacity for different models in california?\")\n",
    "print(str(response))"
   ]
  },
  {
   "cell_type": "code",
   "execution_count": 24,
   "metadata": {},
   "outputs": [
    {
     "name": "stdout",
     "output_type": "stream",
     "text": [
      "The trends in vehicle deliveries show an overall increase quarter over quarter, with fluctuations in the growth rate. Model 3/Y deliveries have been consistently increasing, with a 27% growth from Q3-2022 to Q3-2023. Model S/X deliveries, on the other hand, have shown a decline in deliveries, with a 14% decrease from Q3-2022 to Q3-2023. Total deliveries have been on an upward trend, with a 27% increase from Q3-2022 to Q3-2023.\n"
     ]
    }
   ],
   "source": [
    "response = query_engine.query(\"What are the trends in vehicle deliveries?\")\n",
    "print(str(response))"
   ]
  },
  {
   "cell_type": "code",
   "execution_count": 25,
   "metadata": {},
   "outputs": [
    {
     "name": "stdout",
     "output_type": "stream",
     "text": [
      "The YoY revenue growth graph shows a consistent decline in revenue growth over the trailing 12 months. The revenue growth percentage has been decreasing steadily from 90% in Q3-2019 to -20% in Q2-2022. This indicates a significant slowdown in revenue growth over time, with negative growth rates in the most recent quarters.\n"
     ]
    }
   ],
   "source": [
    "response = query_engine.query(\"explain the YoY revenue growth graph\")\n",
    "print(str(response))"
   ]
  },
  {
   "cell_type": "code",
   "execution_count": null,
   "metadata": {},
   "outputs": [],
   "source": []
  },
  {
   "cell_type": "code",
   "execution_count": null,
   "metadata": {},
   "outputs": [],
   "source": []
  }
 ],
 "metadata": {
  "kernelspec": {
   "display_name": "parsedoc",
   "language": "python",
   "name": "python3"
  },
  "language_info": {
   "codemirror_mode": {
    "name": "ipython",
    "version": 3
   },
   "file_extension": ".py",
   "mimetype": "text/x-python",
   "name": "python",
   "nbconvert_exporter": "python",
   "pygments_lexer": "ipython3",
   "version": "3.11.7"
  }
 },
 "nbformat": 4,
 "nbformat_minor": 2
}
